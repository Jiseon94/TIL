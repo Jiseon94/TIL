{
 "cells": [
  {
   "cell_type": "code",
   "execution_count": 40,
   "metadata": {},
   "outputs": [],
   "source": [
    "import heapq\n",
    "\n",
    "def solution(operations):\n",
    "    answer = []\n",
    "    # 조건 1 : 빈 배열에 삭제 연산은 무시. ==> 순서가 중요. \n",
    "    # 조건 2 : 같은 수일 때는 하나만 삭제.\n",
    "    # 조건 3 : 문자열. \n",
    "    # 조건 4 : 최소 길이 1부터!\n",
    "    heap = []\n",
    "    for o in operations:\n",
    "        if o.startswith(\"I\"):\n",
    "            num = o.split(\" \")\n",
    "            heapq.heappush(heap, int(num[1]))\n",
    "        \n",
    "        if o == \"D 1\":\n",
    "            if len(heap) ==0:\n",
    "                pass\n",
    "            else:\n",
    "                heap.sort()\n",
    "                heap.reverse()\n",
    "                # print(heap)\n",
    "                heapq.heappop(heap)\n",
    "        \n",
    "        if o == \"D -1\":\n",
    "            if len(heap) ==0:\n",
    "                pass\n",
    "            else:\n",
    "                heapq.heapify(heap)\n",
    "                heapq.heappop(heap)\n",
    "               \n",
    "        \n",
    "        print(heap)\n",
    "        \n",
    "    if len(heap) == 0:\n",
    "        return [0,0]\n",
    "    else:\n",
    "        heap.sort()\n",
    "        return [max(heap), min(heap)]"
   ]
  },
  {
   "cell_type": "code",
   "execution_count": 41,
   "metadata": {},
   "outputs": [
    {
     "name": "stdout",
     "output_type": "stream",
     "text": [
      "[16]\n",
      "[-5643, 16]\n",
      "[16]\n",
      "[]\n",
      "[]\n",
      "[123]\n",
      "[]\n"
     ]
    },
    {
     "data": {
      "text/plain": [
       "[0, 0]"
      ]
     },
     "execution_count": 41,
     "metadata": {},
     "output_type": "execute_result"
    }
   ],
   "source": [
    "solution([\"I 16\", \"I -5643\", \"D -1\", \"D 1\", \"D 1\", \"I 123\", \"D -1\"])"
   ]
  },
  {
   "cell_type": "code",
   "execution_count": 43,
   "metadata": {},
   "outputs": [
    {
     "name": "stdout",
     "output_type": "stream",
     "text": [
      "[16]\n",
      "[-5643, 16]\n",
      "[16]\n",
      "[]\n",
      "[]\n",
      "[123]\n"
     ]
    },
    {
     "data": {
      "text/plain": [
       "[123, 123]"
      ]
     },
     "execution_count": 43,
     "metadata": {},
     "output_type": "execute_result"
    }
   ],
   "source": [
    "solution([\"I 16\", \"I -5643\", \"D -1\", \"D 1\", \"D 1\", \"I 123\"])"
   ]
  },
  {
   "cell_type": "code",
   "execution_count": 42,
   "metadata": {},
   "outputs": [
    {
     "name": "stdout",
     "output_type": "stream",
     "text": [
      "[-45]\n",
      "[-45, 653]\n",
      "[-45]\n",
      "[-642, -45]\n",
      "[-642, -45, 45]\n",
      "[-642, -45, 45, 97]\n",
      "[-642, 45, -45]\n",
      "[-45, 45]\n",
      "[-45, 45, 333]\n"
     ]
    },
    {
     "data": {
      "text/plain": [
       "[333, -45]"
      ]
     },
     "execution_count": 42,
     "metadata": {},
     "output_type": "execute_result"
    }
   ],
   "source": [
    "solution([\"I -45\", \"I 653\", \"D 1\", \"I -642\", \"I 45\", \"I 97\", \"D 1\", \"D -1\", \"I 333\"])"
   ]
  },
  {
   "cell_type": "code",
   "execution_count": null,
   "metadata": {},
   "outputs": [],
   "source": []
  },
  {
   "cell_type": "code",
   "execution_count": null,
   "metadata": {},
   "outputs": [],
   "source": []
  }
 ],
 "metadata": {
  "kernelspec": {
   "display_name": "Python 3",
   "language": "python",
   "name": "python3"
  },
  "language_info": {
   "codemirror_mode": {
    "name": "ipython",
    "version": 3
   },
   "file_extension": ".py",
   "mimetype": "text/x-python",
   "name": "python",
   "nbconvert_exporter": "python",
   "pygments_lexer": "ipython3",
   "version": "3.10.1"
  }
 },
 "nbformat": 4,
 "nbformat_minor": 2
}
