{
 "cells": [
  {
   "cell_type": "code",
   "execution_count": 15,
   "metadata": {},
   "outputs": [],
   "source": [
    "import heapq"
   ]
  },
  {
   "cell_type": "code",
   "execution_count": 48,
   "metadata": {},
   "outputs": [],
   "source": [
    "def solution(scoville, K):\n",
    "    answer = -1\n",
    "    heap = []\n",
    "    for s in scoville:\n",
    "        if s < K:\n",
    "            heapq.heappush(heap, s)\n",
    "            \n",
    "    \n",
    "    heap.sort()\n",
    "    print(heap)\n",
    "    \n",
    "    cnt = 0\n",
    "    if len(heap) > 0:\n",
    "\n",
    "        while heap:\n",
    "            print(heap)\n",
    "            if len(heap) == 1 :\n",
    "                cnt +=1\n",
    "                min = heapq.heappop(heap)\n",
    "                res = min + (scoville[1]*2)\n",
    "                print(res)\n",
    "                if res <K:\n",
    "                    heapq.heappush(heap, res)\n",
    "\n",
    "            \n",
    "            elif len(heap) > 1 :\n",
    "                print(heap)\n",
    "                cnt +=1\n",
    "                min_1 = heapq.heappop(heap)\n",
    "                min_2 = heapq.heappop(heap)\n",
    "                res = min_1 + (min_2*2)\n",
    "                print(res)\n",
    "                if res <K:\n",
    "                    heapq.heappush(heap, res)\n",
    "\n",
    "            \n",
    "        return cnt    \n",
    "        \n",
    "    else:\n",
    "        cnt = -1\n",
    "        return cnt        \n",
    "            "
   ]
  },
  {
   "cell_type": "code",
   "execution_count": 49,
   "metadata": {},
   "outputs": [
    {
     "name": "stdout",
     "output_type": "stream",
     "text": [
      "[1, 2, 3, 5]\n",
      "[1, 2, 3, 5]\n",
      "[1, 2, 3, 5]\n",
      "5\n",
      "[3, 5, 5]\n",
      "[3, 5, 5]\n",
      "13\n",
      "[5]\n",
      "15\n"
     ]
    },
    {
     "data": {
      "text/plain": [
       "3"
      ]
     },
     "execution_count": 49,
     "metadata": {},
     "output_type": "execute_result"
    }
   ],
   "source": [
    "solution([1, 5, 2, 3, 9, 10, 12],7)"
   ]
  },
  {
   "cell_type": "code",
   "execution_count": 41,
   "metadata": {},
   "outputs": [
    {
     "ename": "SyntaxError",
     "evalue": "cannot assign to expression here. Maybe you meant '==' instead of '='? (2096677079.py, line 1)",
     "output_type": "error",
     "traceback": [
      "\u001b[1;36m  Cell \u001b[1;32mIn[41], line 1\u001b[1;36m\u001b[0m\n\u001b[1;33m    1 + 2*2 = 5\u001b[0m\n\u001b[1;37m    ^\u001b[0m\n\u001b[1;31mSyntaxError\u001b[0m\u001b[1;31m:\u001b[0m cannot assign to expression here. Maybe you meant '==' instead of '='?\n"
     ]
    }
   ],
   "source": [
    "1 + 2*2 = 5\n",
    "3 + 5*2 = 13\n"
   ]
  },
  {
   "cell_type": "code",
   "execution_count": 63,
   "metadata": {},
   "outputs": [],
   "source": [
    "import heapq\n",
    "\n",
    "def solution(scoville, K):\n",
    "    heap = []\n",
    "    for s in scoville:\n",
    "        heapq.heappush(heap, s)\n",
    "    \n",
    "    # print(heap)\n",
    "    \n",
    "    heap.sort()\n",
    "    # print(heap)\n",
    "    \n",
    "    cnt = 0\n",
    "    \n",
    "    while heap[0] < K :\n",
    "        heapq.heappush(heap, heapq.heappop(heap) + (heapq.heappop(heap)*2))\n",
    "        cnt +=1\n",
    "        # print(heap)\n",
    "        # print(cnt)\n",
    "    \n",
    "        if len(heap) == 1 and heap[0] < K:\n",
    "            return -1\n",
    "    return cnt\n",
    "        \n",
    "        \n"
   ]
  },
  {
   "cell_type": "code",
   "execution_count": 64,
   "metadata": {},
   "outputs": [
    {
     "data": {
      "text/plain": [
       "3"
      ]
     },
     "execution_count": 64,
     "metadata": {},
     "output_type": "execute_result"
    }
   ],
   "source": [
    "solution([1, 5, 2, 3, 9, 10, 12],7)"
   ]
  },
  {
   "cell_type": "code",
   "execution_count": 69,
   "metadata": {},
   "outputs": [],
   "source": [
    "import heapq\n",
    "\n",
    "def solution(scoville, K):\n",
    "    cnt = 0\n",
    "    heapq.heapify(scoville)\n",
    "    \n",
    "    while True:\n",
    "        print(scoville)\n",
    "        first = heapq.heappop(scoville)\n",
    "        print(first)\n",
    "        if first >= K:\n",
    "            break\n",
    "        if len(scoville) == 0 :\n",
    "            print(\"이건 무슨 경우지\")\n",
    "            return -1\n",
    "        \n",
    "        second = heapq.heappop(scoville)\n",
    "        print(second)\n",
    "        heapq.heappush(scoville, first + second*2)\n",
    "        cnt +=1\n",
    "    \n",
    "    return cnt\n",
    "        \n",
    "        "
   ]
  },
  {
   "cell_type": "code",
   "execution_count": 70,
   "metadata": {},
   "outputs": [
    {
     "name": "stdout",
     "output_type": "stream",
     "text": [
      "[1, 3, 2, 5, 9, 10, 12]\n",
      "1\n",
      "2\n",
      "[3, 5, 5, 12, 9, 10]\n",
      "3\n",
      "5\n",
      "[5, 9, 10, 12, 13]\n",
      "5\n",
      "9\n",
      "[10, 12, 13, 23]\n",
      "10\n"
     ]
    },
    {
     "data": {
      "text/plain": [
       "3"
      ]
     },
     "execution_count": 70,
     "metadata": {},
     "output_type": "execute_result"
    }
   ],
   "source": [
    "solution([1, 5, 2, 3, 9, 10, 12],7)"
   ]
  },
  {
   "cell_type": "code",
   "execution_count": 76,
   "metadata": {},
   "outputs": [
    {
     "name": "stdout",
     "output_type": "stream",
     "text": [
      "[1, 1]\n",
      "1\n",
      "1\n",
      "[3]\n",
      "3\n",
      "이건 무슨 경우지\n"
     ]
    },
    {
     "data": {
      "text/plain": [
       "-1"
      ]
     },
     "execution_count": 76,
     "metadata": {},
     "output_type": "execute_result"
    }
   ],
   "source": [
    "solution([1,1],7)"
   ]
  },
  {
   "cell_type": "code",
   "execution_count": null,
   "metadata": {},
   "outputs": [],
   "source": []
  }
 ],
 "metadata": {
  "kernelspec": {
   "display_name": "Python 3",
   "language": "python",
   "name": "python3"
  },
  "language_info": {
   "codemirror_mode": {
    "name": "ipython",
    "version": 3
   },
   "file_extension": ".py",
   "mimetype": "text/x-python",
   "name": "python",
   "nbconvert_exporter": "python",
   "pygments_lexer": "ipython3",
   "version": "3.10.1"
  }
 },
 "nbformat": 4,
 "nbformat_minor": 2
}
