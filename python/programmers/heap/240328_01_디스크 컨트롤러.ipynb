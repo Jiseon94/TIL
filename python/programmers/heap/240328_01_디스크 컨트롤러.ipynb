{
 "cells": [
  {
   "cell_type": "code",
   "execution_count": 21,
   "metadata": {},
   "outputs": [],
   "source": [
    "import heapq\n",
    "\n",
    "def solution(jobs):\n",
    "    answer = 0\n",
    "    # 전체 작업시간 \n",
    "    # 대기 시간.\n",
    "    heap = []\n",
    "    \n",
    "    heapq.heapify(jobs)\n",
    "    \n",
    "    for i in jobs:\n",
    "        heapq.heappop(jobs)\n",
    "        \n",
    "    print(heap)\n",
    "    \n",
    "    return answer"
   ]
  },
  {
   "cell_type": "code",
   "execution_count": 22,
   "metadata": {},
   "outputs": [
    {
     "name": "stdout",
     "output_type": "stream",
     "text": [
      "[]\n"
     ]
    },
    {
     "data": {
      "text/plain": [
       "0"
      ]
     },
     "execution_count": 22,
     "metadata": {},
     "output_type": "execute_result"
    }
   ],
   "source": [
    "solution([[0, 3], [1, 9], [2, 6]]) #(3, 10, 8)\n",
    "# 3 + (3+9)-1 + (3+9+6)-2 = 3+11+(12+6-2)=3+11+16 = 30\n",
    "# 3-0 + (3+6)-2 + (3+6+9)-1 = 3+7+17 = 27 \n",
    "\n",
    "# 0 + (3+0) + (3+0+6"
   ]
  },
  {
   "cell_type": "code",
   "execution_count": 23,
   "metadata": {},
   "outputs": [
    {
     "name": "stdout",
     "output_type": "stream",
     "text": [
      "[]\n",
      "[]\n"
     ]
    },
    {
     "data": {
      "text/plain": [
       "0"
      ]
     },
     "execution_count": 23,
     "metadata": {},
     "output_type": "execute_result"
    }
   ],
   "source": [
    "solution([[0, 3], [1, 6], [2, 6]]) #(3, 7, 8)\n",
    "# 3, 9, 15 = 3 / 8 / 13\n",
    "# 3, 9, 15 = 3 / 7 / 14\n",
    "\n",
    "solution([[0, 3], [1, 7], [2, 6]]) #(3, 8, 8)\n",
    "# 3, 10, 16 = 3 / 9 / 14\n",
    "# 3, 9, 15 = 3 / 7 / 14"
   ]
  },
  {
   "cell_type": "code",
   "execution_count": 15,
   "metadata": {},
   "outputs": [
    {
     "name": "stdout",
     "output_type": "stream",
     "text": [
      "[[0, 11], [1, 2], [9, 4]]\n"
     ]
    },
    {
     "data": {
      "text/plain": [
       "0"
      ]
     },
     "execution_count": 15,
     "metadata": {},
     "output_type": "execute_result"
    }
   ],
   "source": [
    "solution([[0, 11], [1, 2], [9, 4]])\n",
    "# 11-0 + (11+2)-1 + (11+2+4)-9 = 11+12+8 = 31\n",
    "# "
   ]
  },
  {
   "cell_type": "code",
   "execution_count": 16,
   "metadata": {},
   "outputs": [
    {
     "name": "stdout",
     "output_type": "stream",
     "text": [
      "[[0, 11], [10, 2], [9, 4]]\n"
     ]
    },
    {
     "data": {
      "text/plain": [
       "0"
      ]
     },
     "execution_count": 16,
     "metadata": {},
     "output_type": "execute_result"
    }
   ],
   "source": [
    "solution([[0, 11], [10, 2], [9, 4]]) #11, 12, 13\n",
    "# 11-0 + (11+2)-10 + (11+2+4)-9 = 11+3+8 = 22\n",
    "# 11-0 + (11+4)-9 + (11+4+2)-10 = 11+6+7 = 24 "
   ]
  },
  {
   "cell_type": "code",
   "execution_count": 9,
   "metadata": {},
   "outputs": [
    {
     "name": "stdout",
     "output_type": "stream",
     "text": [
      "[[1, 3], [3, 1]]\n",
      "[[1, 5], [2, 2]]\n"
     ]
    },
    {
     "data": {
      "text/plain": [
       "0"
      ]
     },
     "execution_count": 9,
     "metadata": {},
     "output_type": "execute_result"
    }
   ],
   "source": [
    "solution([[1,3], [3,1]]) #(4, 4)\n",
    "# 4, 5 = 3 / 2 => 5\n",
    "# 4, 7 = 3 / 6 => 9 \n",
    "\n",
    "solution([[1,5], [2,2]]) #(6, 4)\n",
    "# 6, 8 = 5, 6 -> 11\n",
    "# 4, 9 = 2 / 8 -> 10"
   ]
  },
  {
   "cell_type": "code",
   "execution_count": null,
   "metadata": {},
   "outputs": [],
   "source": []
  }
 ],
 "metadata": {
  "kernelspec": {
   "display_name": "Python 3",
   "language": "python",
   "name": "python3"
  },
  "language_info": {
   "codemirror_mode": {
    "name": "ipython",
    "version": 3
   },
   "file_extension": ".py",
   "mimetype": "text/x-python",
   "name": "python",
   "nbconvert_exporter": "python",
   "pygments_lexer": "ipython3",
   "version": "3.10.1"
  }
 },
 "nbformat": 4,
 "nbformat_minor": 2
}
