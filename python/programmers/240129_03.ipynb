{
 "cells": [
  {
   "cell_type": "code",
   "execution_count": 246,
   "metadata": {},
   "outputs": [],
   "source": [
    "def solution(n, m):\n",
    "    answer = []\n",
    "    temp1 = []\n",
    "    temp2 = []\n",
    "    \n",
    "    # 주어진 수 중 1이 있을 경우\n",
    "    if (min(n,m)==1):\n",
    "        # print(min(n, m))\n",
    "        answer.append(1)\n",
    "        answer.append(max(n,m))\n",
    "        return answer\n",
    "        \n",
    "    # 작은 수 먼저 해부\n",
    "    for i in range(2, (min(n,m)+1)):\n",
    "        if (min(n,m)%i ==0):\n",
    "            # print(i)\n",
    "            temp1.append(i)\n",
    "    print(temp1)\n",
    "\n",
    "    # 큰 수 해부\n",
    "    for j in range(2, max(n,m)+1):\n",
    "        # print(j)\n",
    "        if(max(n,m)%j ==0):\n",
    "            # print(j)\n",
    "            temp2.append(j)\n",
    "            # break\n",
    "    print(temp2)       \n",
    "    # # print(temp)\n",
    "    \n",
    "    # # 최소, 최대 구하기\n",
    "    # if temp1[-1] in temp2:  # 최소공배수는 max임\n",
    "    #     print(temp1[-1])\n",
    "    #     answer.append(temp1[0])\n",
    "    #     answer.append(max(n,m))\n",
    "    #     return answer\n",
    "        \n",
    "    if(temp2[-1]%temp1[0]==0):\n",
    "        print(\"최대공약수 구할 수 있음\")\n",
    "        answer.append(temp1[0])\n",
    "        num = temp2[-1]//temp1[0]\n",
    "        num = num*temp1[0]\n",
    "        answer.append(num)\n",
    "        \n",
    "                   \n",
    "    else:\n",
    "        answer.append(1)\n",
    "        answer.append(n*m)\n",
    "    \n",
    "        \n",
    "    return answer"
   ]
  },
  {
   "cell_type": "code",
   "execution_count": 281,
   "metadata": {},
   "outputs": [],
   "source": [
    "def solution(n, m):\n",
    "    answer = []\n",
    "    temp1 = []\n",
    "    temp2 = []\n",
    "    \n",
    "    # 주어진 수 중 1이 있을 경우\n",
    "    if (min(n,m)==1):\n",
    "        # print(min(n, m))\n",
    "        answer.append(1)\n",
    "        answer.append(max(n,m))\n",
    "        return answer\n",
    "        \n",
    "    # 작은 수 먼저 해부\n",
    "    for i in range(2, (min(n,m)+1)):\n",
    "        if (min(n,m)%i ==0):\n",
    "            # print(i)\n",
    "            temp1.append(i)\n",
    "    print(temp1)\n",
    "    \n",
    "    if max(n,m)%temp1[0]==0 :\n",
    "        print(max(n,m)//temp1[0])\n",
    "        num = max(n,m)//temp1[0]\n",
    "        answer.append(temp1[0])\n",
    "        if num not in temp1:\n",
    "           \n",
    "            answer.append(temp1[-1]*num)\n",
    "        else:\n",
    "            answer.append(max(n,m))\n",
    "        \n",
    "        return answer\n",
    "    \n",
    "    else:\n",
    "        answer.append(1)\n",
    "        answer.append(n*m)\n",
    "        \n",
    "    return answer"
   ]
  },
  {
   "cell_type": "code",
   "execution_count": 271,
   "metadata": {},
   "outputs": [
    {
     "name": "stdout",
     "output_type": "stream",
     "text": [
      "[3]\n",
      "4\n"
     ]
    },
    {
     "data": {
      "text/plain": [
       "[3, 12]"
      ]
     },
     "execution_count": 271,
     "metadata": {},
     "output_type": "execute_result"
    }
   ],
   "source": [
    "solution(3,12)\n",
    "# 1, 2, 3, 4, 6, 12"
   ]
  },
  {
   "cell_type": "code",
   "execution_count": 272,
   "metadata": {},
   "outputs": [
    {
     "name": "stdout",
     "output_type": "stream",
     "text": [
      "[2]\n"
     ]
    },
    {
     "data": {
      "text/plain": [
       "[2, 10]"
      ]
     },
     "execution_count": 272,
     "metadata": {},
     "output_type": "execute_result"
    }
   ],
   "source": [
    "solution(2, 5)"
   ]
  },
  {
   "cell_type": "code",
   "execution_count": 273,
   "metadata": {},
   "outputs": [
    {
     "data": {
      "text/plain": [
       "[1, 5]"
      ]
     },
     "execution_count": 273,
     "metadata": {},
     "output_type": "execute_result"
    }
   ],
   "source": [
    "solution(1,5)"
   ]
  },
  {
   "cell_type": "code",
   "execution_count": 274,
   "metadata": {},
   "outputs": [
    {
     "name": "stdout",
     "output_type": "stream",
     "text": [
      "[2]\n",
      "2\n"
     ]
    },
    {
     "data": {
      "text/plain": [
       "[2, 4]"
      ]
     },
     "execution_count": 274,
     "metadata": {},
     "output_type": "execute_result"
    }
   ],
   "source": [
    "solution(2, 4)"
   ]
  },
  {
   "cell_type": "code",
   "execution_count": 275,
   "metadata": {},
   "outputs": [
    {
     "name": "stdout",
     "output_type": "stream",
     "text": [
      "[2, 4]\n",
      "4\n"
     ]
    },
    {
     "data": {
      "text/plain": [
       "[2, 8]"
      ]
     },
     "execution_count": 275,
     "metadata": {},
     "output_type": "execute_result"
    }
   ],
   "source": [
    "solution(8, 4)"
   ]
  },
  {
   "cell_type": "code",
   "execution_count": 276,
   "metadata": {},
   "outputs": [
    {
     "name": "stdout",
     "output_type": "stream",
     "text": [
      "[2, 4]\n",
      "5\n"
     ]
    },
    {
     "data": {
      "text/plain": [
       "[2, 20]"
      ]
     },
     "execution_count": 276,
     "metadata": {},
     "output_type": "execute_result"
    }
   ],
   "source": [
    "solution(10, 4)\n",
    "#1,2,5,10"
   ]
  },
  {
   "cell_type": "code",
   "execution_count": 277,
   "metadata": {},
   "outputs": [
    {
     "name": "stdout",
     "output_type": "stream",
     "text": [
      "[5]\n"
     ]
    },
    {
     "data": {
      "text/plain": [
       "[5, 35]"
      ]
     },
     "execution_count": 277,
     "metadata": {},
     "output_type": "execute_result"
    }
   ],
   "source": [
    "solution(7,5)"
   ]
  },
  {
   "cell_type": "code",
   "execution_count": 278,
   "metadata": {},
   "outputs": [
    {
     "data": {
      "text/plain": [
       "[1, 1]"
      ]
     },
     "execution_count": 278,
     "metadata": {},
     "output_type": "execute_result"
    }
   ],
   "source": [
    "solution(1, 1)"
   ]
  },
  {
   "cell_type": "code",
   "execution_count": 279,
   "metadata": {},
   "outputs": [
    {
     "name": "stdout",
     "output_type": "stream",
     "text": [
      "[3]\n",
      "11\n"
     ]
    },
    {
     "data": {
      "text/plain": [
       "[3, 33]"
      ]
     },
     "execution_count": 279,
     "metadata": {},
     "output_type": "execute_result"
    }
   ],
   "source": [
    "solution(3, 33)"
   ]
  },
  {
   "cell_type": "code",
   "execution_count": 280,
   "metadata": {},
   "outputs": [
    {
     "name": "stdout",
     "output_type": "stream",
     "text": [
      "[2, 4, 8]\n",
      "5\n"
     ]
    },
    {
     "data": {
      "text/plain": [
       "[2, 40]"
      ]
     },
     "execution_count": 280,
     "metadata": {},
     "output_type": "execute_result"
    }
   ],
   "source": [
    "solution(8, 10)"
   ]
  },
  {
   "cell_type": "code",
   "execution_count": null,
   "metadata": {},
   "outputs": [],
   "source": []
  }
 ],
 "metadata": {
  "kernelspec": {
   "display_name": "Python 3",
   "language": "python",
   "name": "python3"
  },
  "language_info": {
   "codemirror_mode": {
    "name": "ipython",
    "version": 3
   },
   "file_extension": ".py",
   "mimetype": "text/x-python",
   "name": "python",
   "nbconvert_exporter": "python",
   "pygments_lexer": "ipython3",
   "version": "3.10.1"
  }
 },
 "nbformat": 4,
 "nbformat_minor": 2
}
