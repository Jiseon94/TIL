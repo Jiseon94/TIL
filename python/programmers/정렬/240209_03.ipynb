{
 "cells": [
  {
   "cell_type": "markdown",
   "metadata": {},
   "source": [
    "### value 값으로 key 값 찾는 방법을 알고싶다!!!! 자꾸 까먹음"
   ]
  },
  {
   "cell_type": "code",
   "execution_count": 1,
   "metadata": {},
   "outputs": [],
   "source": [
    "def solution(numbers):\n",
    "    answer = ''\n",
    "    temp =[]\n",
    "    number =''\n",
    "    # 원소 꺼내서 문자열로 만들기\n",
    "    for i in numbers:\n",
    "        num = str(i)\n",
    "        num_first = num[0]\n",
    "        num_len = len(num)\n",
    "        temp.append([num_first, num_len, i])\n",
    "        \n",
    "    \n",
    "    # 첫번째 요소를 기준으로 sort 하기..?\n",
    "    # print(sorted(temp, reverse=True))\n",
    "    # 이렇게 재할당..? 해도 될까?\n",
    "    temp = sorted(temp, reverse=True)\n",
    "    print(temp)\n",
    "    \n",
    "    for j in temp:\n",
    "        print(j[-1])\n",
    "        answer+=str(j[-1])\n",
    "\n",
    "    return answer"
   ]
  },
  {
   "cell_type": "code",
   "execution_count": 29,
   "metadata": {},
   "outputs": [],
   "source": [
    "def solution(numbers):\n",
    "    answer = ''\n",
    "    temp =[]\n",
    "    number =''\n",
    "    # 원소 꺼내서 문자열로 만들기\n",
    "    for i in numbers:\n",
    "        num = str(i)\n",
    "        num_first = num[0]\n",
    "        num_len = len(num)\n",
    "        temp.append([num_first, num_len, i])\n",
    "        \n",
    "    \n",
    "    # 첫번째 요소를 기준으로 sort 하기..?\n",
    "    # print(sorted(temp, reverse=True))\n",
    "    # 이렇게 재할당..? 해도 될까?\n",
    "    temp = sorted(temp, reverse=True)\n",
    "    print(temp)\n",
    "    \n",
    "    count = 0\n",
    "    \n",
    "    for i in range(1, 10):\n",
    "        # print(i)\n",
    "        count= sum(1 for item in temp if item[0] == str(i))\n",
    "        print(count)\n",
    "\n",
    "        if count == 1:\n",
    "          print(\"0번째 인덱스 값이\" ,str(i), \"요소는 1개만 존재합니다.\")\n",
    "        if count > 1:\n",
    "          print(f\"0번째 인덱스 값이\" ,str(i), \"요소는 2개 이상 존재합니다.\")\n",
    "          \n",
    "    \n",
    "    for j in temp:\n",
    "        # print(j[-1])\n",
    "        answer+=str(j[-1])\n",
    "\n",
    "    return answer"
   ]
  },
  {
   "cell_type": "code",
   "execution_count": 30,
   "metadata": {},
   "outputs": [
    {
     "name": "stdout",
     "output_type": "stream",
     "text": [
      "[['6', 1, 6], ['2', 1, 2], ['1', 2, 10], ['0', 1, 0]]\n",
      "1\n",
      "0번째 인덱스 값이 1 요소는 1개만 존재합니다.\n",
      "1\n",
      "0번째 인덱스 값이 2 요소는 1개만 존재합니다.\n",
      "0\n",
      "0\n",
      "0\n",
      "1\n",
      "0번째 인덱스 값이 6 요소는 1개만 존재합니다.\n",
      "0\n",
      "0\n",
      "0\n"
     ]
    },
    {
     "data": {
      "text/plain": [
       "'62100'"
      ]
     },
     "execution_count": 30,
     "metadata": {},
     "output_type": "execute_result"
    }
   ],
   "source": [
    "solution([6, 10, 2,0 ])"
   ]
  },
  {
   "cell_type": "code",
   "execution_count": 31,
   "metadata": {},
   "outputs": [
    {
     "name": "stdout",
     "output_type": "stream",
     "text": [
      "[['9', 1, 9], ['5', 1, 5], ['3', 2, 34], ['3', 2, 30], ['3', 1, 3]]\n",
      "0\n",
      "0\n",
      "3\n",
      "0번째 인덱스 값이 3 요소는 2개 이상 존재합니다.\n",
      "0\n",
      "1\n",
      "0번째 인덱스 값이 5 요소는 1개만 존재합니다.\n",
      "0\n",
      "0\n",
      "0\n",
      "1\n",
      "0번째 인덱스 값이 9 요소는 1개만 존재합니다.\n"
     ]
    },
    {
     "data": {
      "text/plain": [
       "'9534303'"
      ]
     },
     "execution_count": 31,
     "metadata": {},
     "output_type": "execute_result"
    }
   ],
   "source": [
    "solution([3, 30, 34, 5, 9])"
   ]
  },
  {
   "cell_type": "code",
   "execution_count": null,
   "metadata": {},
   "outputs": [],
   "source": []
  }
 ],
 "metadata": {
  "kernelspec": {
   "display_name": "Python 3",
   "language": "python",
   "name": "python3"
  },
  "language_info": {
   "codemirror_mode": {
    "name": "ipython",
    "version": 3
   },
   "file_extension": ".py",
   "mimetype": "text/x-python",
   "name": "python",
   "nbconvert_exporter": "python",
   "pygments_lexer": "ipython3",
   "version": "3.10.1"
  }
 },
 "nbformat": 4,
 "nbformat_minor": 2
}
