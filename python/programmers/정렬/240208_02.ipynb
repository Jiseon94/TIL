{
 "cells": [
  {
   "cell_type": "code",
   "execution_count": 56,
   "metadata": {},
   "outputs": [],
   "source": [
    "def solution(array, commands):\n",
    "    answer = []\n",
    "    #공통 기능 :\n",
    "    #i ~ j 인덱스 추출\n",
    "    #sort() 정렬\n",
    "    for i in range(len(commands)):\n",
    "        k = commands[i][2]\n",
    "        num =[]\n",
    "        for j in range(0, 2):\n",
    "            num.append(commands[i][j])\n",
    "        # print(num)\n",
    "\n",
    "        temp = array[(num[0]-1):num[1]]\n",
    "        temp.sort()\n",
    "        # print(k)\n",
    "        # print(temp)\n",
    "        answer.append(temp[k-1])\n",
    "        \n",
    "        \n",
    "    return answer"
   ]
  },
  {
   "cell_type": "code",
   "execution_count": 68,
   "metadata": {},
   "outputs": [],
   "source": [
    "def solution(array, commands):\n",
    "    answer = []\n",
    "    #공통 기능 :\n",
    "    #i ~ j 인덱스 추출\n",
    "    #sort() 정렬\n",
    "    for command in commands:\n",
    "        # print(command)\n",
    "        i = command[0]\n",
    "        j = command[1]\n",
    "        k = command[2]\n",
    "        print(i, j, k)\n",
    "        temp = sorted(array[(i-1):j])\n",
    "        answer.append(temp[(k-1)])\n",
    "\n",
    "    return answer"
   ]
  },
  {
   "cell_type": "code",
   "execution_count": 69,
   "metadata": {},
   "outputs": [
    {
     "name": "stdout",
     "output_type": "stream",
     "text": [
      "2 5 3\n",
      "4 4 1\n",
      "1 7 3\n"
     ]
    },
    {
     "data": {
      "text/plain": [
       "[5, 6, 3]"
      ]
     },
     "execution_count": 69,
     "metadata": {},
     "output_type": "execute_result"
    }
   ],
   "source": [
    "solution([1, 5, 2, 6, 3, 7, 4],[[2, 5, 3], [4, 4, 1], [1, 7, 3]])"
   ]
  },
  {
   "cell_type": "code",
   "execution_count": null,
   "metadata": {},
   "outputs": [],
   "source": []
  }
 ],
 "metadata": {
  "kernelspec": {
   "display_name": "Python 3",
   "language": "python",
   "name": "python3"
  },
  "language_info": {
   "codemirror_mode": {
    "name": "ipython",
    "version": 3
   },
   "file_extension": ".py",
   "mimetype": "text/x-python",
   "name": "python",
   "nbconvert_exporter": "python",
   "pygments_lexer": "ipython3",
   "version": "3.10.1"
  }
 },
 "nbformat": 4,
 "nbformat_minor": 2
}
