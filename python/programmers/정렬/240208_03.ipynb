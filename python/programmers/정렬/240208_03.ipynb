{
 "cells": [
  {
   "cell_type": "code",
   "execution_count": 25,
   "metadata": {},
   "outputs": [],
   "source": [
    "def solution(citations):\n",
    "    answer = 0\n",
    "    ref_sum=0 #총 인용횟수\n",
    "    ref_avg=0 #평균 인용횟수\n",
    "    n = len(citations)  #총 논문 수\n",
    "    for i in citations:\n",
    "        # print(i)\n",
    "        ref_sum+=i\n",
    "    # print(ref_sum)\n",
    "    # print(n)\n",
    "    ref_avg=ref_sum//n\n",
    "    print(ref_avg)\n",
    "    \n",
    "    #평균 값에 가까운 순서별로 확인하는 방법은 없으려나?\n",
    "    citations.sort()\n",
    "    print(citations)\n",
    "    \n",
    "    # 오름차순 정렬 시, 배열의 중간값에 해당하는 인용횟수를 먼저 확인해보기\n",
    "    citations[n//2]\n",
    "    \n",
    "    \n",
    "    \n",
    "    return answer"
   ]
  },
  {
   "cell_type": "code",
   "execution_count": 57,
   "metadata": {},
   "outputs": [],
   "source": [
    "# 무식하게 다 구해보기....\n",
    "\n",
    "def solution(citations):\n",
    "    answer = 0\n",
    "    ref_sum=0 #총 인용횟수\n",
    "    ref_avg=0 #평균 인용횟수\n",
    "    n = len(citations)\n",
    "    \n",
    "    \n",
    "    for i in citations:\n",
    "        ref_sum+=i\n",
    "\n",
    "    ref_avg=ref_sum//n\n",
    "    print(ref_avg)\n",
    "    \n",
    "    total_avg = []\n",
    "    for i in range(len(citations)):\n",
    "        cnt =0\n",
    "        if citations[i]>=ref_avg:\n",
    "            total_avg.append(citations[i])\n",
    "        if citations[i]<ref_avg:\n",
    "            total_avg.append(citations[i])\n",
    "    \n",
    "    print(total_avg)\n",
    "        \n",
    "    \n",
    "    return answer"
   ]
  },
  {
   "cell_type": "code",
   "execution_count": 58,
   "metadata": {},
   "outputs": [
    {
     "name": "stdout",
     "output_type": "stream",
     "text": [
      "3\n",
      "[3, 0, 6, 1, 5]\n"
     ]
    },
    {
     "data": {
      "text/plain": [
       "0"
      ]
     },
     "execution_count": 58,
     "metadata": {},
     "output_type": "execute_result"
    }
   ],
   "source": [
    "solution([3, 0, 6, 1, 5])"
   ]
  },
  {
   "cell_type": "code",
   "execution_count": 20,
   "metadata": {},
   "outputs": [
    {
     "name": "stdout",
     "output_type": "stream",
     "text": [
      "2.0\n",
      "[2, 2, 2, 2, 2]\n"
     ]
    },
    {
     "data": {
      "text/plain": [
       "0"
      ]
     },
     "execution_count": 20,
     "metadata": {},
     "output_type": "execute_result"
    }
   ],
   "source": [
    "solution([2, 2, 2, 2, 2])"
   ]
  },
  {
   "cell_type": "code",
   "execution_count": null,
   "metadata": {},
   "outputs": [],
   "source": []
  }
 ],
 "metadata": {
  "kernelspec": {
   "display_name": "Python 3",
   "language": "python",
   "name": "python3"
  },
  "language_info": {
   "codemirror_mode": {
    "name": "ipython",
    "version": 3
   },
   "file_extension": ".py",
   "mimetype": "text/x-python",
   "name": "python",
   "nbconvert_exporter": "python",
   "pygments_lexer": "ipython3",
   "version": "3.10.1"
  }
 },
 "nbformat": 4,
 "nbformat_minor": 2
}
