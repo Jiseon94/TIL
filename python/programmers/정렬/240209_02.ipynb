{
 "cells": [
  {
   "cell_type": "code",
   "execution_count": 28,
   "metadata": {},
   "outputs": [],
   "source": [
    "def solution(strings, n):\n",
    "    answer = []\n",
    "    e =[]\n",
    "    # idx 별 원소 확인\n",
    "    for string in strings:\n",
    "        print(string[n])\n",
    "        e.append([string[n], string])\n",
    "    \n",
    "    temp = sorted(e)\n",
    "    # print(sorted(e))\n",
    "    print(temp)\n",
    "    for i in temp:\n",
    "        print(i[1])\n",
    "        answer.append(i[1])\n",
    "\n",
    "    return answer"
   ]
  },
  {
   "cell_type": "code",
   "execution_count": 29,
   "metadata": {},
   "outputs": [
    {
     "name": "stdout",
     "output_type": "stream",
     "text": [
      "u\n",
      "e\n",
      "a\n",
      "[['a', 'car'], ['e', 'bed'], ['u', 'sun']]\n",
      "car\n",
      "bed\n",
      "sun\n"
     ]
    },
    {
     "data": {
      "text/plain": [
       "['car', 'bed', 'sun']"
      ]
     },
     "execution_count": 29,
     "metadata": {},
     "output_type": "execute_result"
    }
   ],
   "source": [
    "solution([\"sun\", \"bed\", \"car\"], 1)"
   ]
  },
  {
   "cell_type": "code",
   "execution_count": 30,
   "metadata": {},
   "outputs": [
    {
     "name": "stdout",
     "output_type": "stream",
     "text": [
      "c\n",
      "c\n",
      "x\n",
      "[['c', 'abcd'], ['c', 'abce'], ['x', 'cdx']]\n",
      "abcd\n",
      "abce\n",
      "cdx\n"
     ]
    },
    {
     "data": {
      "text/plain": [
       "['abcd', 'abce', 'cdx']"
      ]
     },
     "execution_count": 30,
     "metadata": {},
     "output_type": "execute_result"
    }
   ],
   "source": [
    "solution([\"abce\", \"abcd\", \"cdx\"],\t2)"
   ]
  },
  {
   "cell_type": "code",
   "execution_count": null,
   "metadata": {},
   "outputs": [],
   "source": []
  }
 ],
 "metadata": {
  "kernelspec": {
   "display_name": "Python 3",
   "language": "python",
   "name": "python3"
  },
  "language_info": {
   "codemirror_mode": {
    "name": "ipython",
    "version": 3
   },
   "file_extension": ".py",
   "mimetype": "text/x-python",
   "name": "python",
   "nbconvert_exporter": "python",
   "pygments_lexer": "ipython3",
   "version": "3.10.1"
  }
 },
 "nbformat": 4,
 "nbformat_minor": 2
}
