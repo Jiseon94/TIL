{
 "cells": [
  {
   "cell_type": "code",
   "execution_count": null,
   "metadata": {},
   "outputs": [],
   "source": [
    "def solution(progresses, speeds):\n",
    "    answer = []\n",
    "    day = 0\n",
    "    q = []\n",
    "    for i in range(len(progresses)):\n",
    "        if (100-progresses[i])%speeds[i] !=0:\n",
    "            d = ((100-progresses[i])//speeds[i]) + 1\n",
    "            q.append(d)\n",
    "        else:\n",
    "            d = (100 - progresses[i]) // speeds[i]\n",
    "            q.append(d)\n",
    "    print(q)\n",
    "    while q:\n",
    "\n",
    "    return answer"
   ]
  },
  {
   "cell_type": "code",
   "execution_count": 3,
   "metadata": {},
   "outputs": [],
   "source": [
    "\n",
    "def solution(progresses, speeds):\n",
    "    answer = []\n",
    "\n",
    "    while progresses:\n",
    "        d = (100 - progresses[0]) % speeds[0]\n",
    "        num = 0\n",
    "        if d != 0:\n",
    "            num = (100 - progresses[0]) // speeds[0] + 1\n",
    "        else:\n",
    "            num = (100 - progresses[0]) // speeds[0]\n",
    "\n",
    "\n",
    "        speed_plus = [i * num for i in speeds]\n",
    "        progresses_plus = [i + j for i,j in zip(progresses, speed_plus)] # [100>=, 109, 23,89, 102 ....]\n",
    "\n",
    "        print(progresses_plus)\n",
    "        answer_num = 0\n",
    "        for data in progresses_plus:\n",
    "            if data >= 100:\n",
    "                answer_num += 1\n",
    "            else:\n",
    "                break\n",
    "\n",
    "        print(\"hi\")\n",
    "        print(answer_num)\n",
    "        for _ in range(answer_num):\n",
    "            speeds.pop(0)\n",
    "            progresses.pop(0)\n",
    "\n",
    "        print(answer_num)\n",
    "        answer.append(answer_num)\n",
    "    print(answer)\n",
    "    return answer"
   ]
  },
  {
   "cell_type": "code",
   "execution_count": 4,
   "metadata": {},
   "outputs": [
    {
     "name": "stdout",
     "output_type": "stream",
     "text": [
      "[100, 95, 104, 104, 85, 104]\n",
      "hi\n",
      "1\n",
      "1\n",
      "[100, 109, 109, 90, 109]\n",
      "hi\n",
      "3\n",
      "3\n",
      "[100, 119]\n",
      "hi\n",
      "2\n",
      "2\n",
      "[1, 3, 2]\n"
     ]
    },
    {
     "data": {
      "text/plain": [
       "[1, 3, 2]"
      ]
     },
     "execution_count": 4,
     "metadata": {},
     "output_type": "execute_result"
    }
   ],
   "source": [
    "# solution([93, 30, 55], [1, 30, 5])\n",
    "solution([95, 90, 99, 99, 80, 99], [1, 1, 1, 1, 1, 1])"
   ]
  },
  {
   "cell_type": "code",
   "execution_count": null,
   "metadata": {},
   "outputs": [],
   "source": []
  }
 ],
 "metadata": {
  "kernelspec": {
   "display_name": "Python 3",
   "language": "python",
   "name": "python3"
  },
  "language_info": {
   "codemirror_mode": {
    "name": "ipython",
    "version": 3
   },
   "file_extension": ".py",
   "mimetype": "text/x-python",
   "name": "python",
   "nbconvert_exporter": "python",
   "pygments_lexer": "ipython3",
   "version": "3.10.1"
  }
 },
 "nbformat": 4,
 "nbformat_minor": 2
}
