{
 "cells": [
  {
   "cell_type": "code",
   "execution_count": 61,
   "metadata": {},
   "outputs": [],
   "source": [
    "def solution(spell, dic):\n",
    "    answer = 2\n",
    "    for i in range(len(dic)):\n",
    "        print(dic[i])\n",
    "        \n",
    "        num = len(spell)\n",
    "        print(num)\n",
    "        \n",
    "        for s in spell:\n",
    "            if (s in dic[i]):\n",
    "                print(\"있음\")\n",
    "            else:\n",
    "                num-=1\n",
    "                break\n",
    "        if num == len(spell):\n",
    "            answer=1\n",
    "            \n",
    "                \n",
    "                 \n",
    "    return answer"
   ]
  },
  {
   "cell_type": "code",
   "execution_count": 62,
   "metadata": {},
   "outputs": [
    {
     "name": "stdout",
     "output_type": "stream",
     "text": [
      "sod\n",
      "3\n",
      "eocd\n",
      "3\n",
      "qixm\n",
      "3\n",
      "adio\n",
      "3\n",
      "soo\n",
      "3\n"
     ]
    },
    {
     "data": {
      "text/plain": [
       "2"
      ]
     },
     "execution_count": 62,
     "metadata": {},
     "output_type": "execute_result"
    }
   ],
   "source": [
    "solution([\"p\", \"o\", \"s\"], [\"sod\", \"eocd\", \"qixm\", \"adio\", \"soo\"])"
   ]
  },
  {
   "cell_type": "code",
   "execution_count": 63,
   "metadata": {},
   "outputs": [
    {
     "name": "stdout",
     "output_type": "stream",
     "text": [
      "def\n",
      "3\n",
      "dww\n",
      "3\n",
      "dzx\n",
      "3\n",
      "있음\n",
      "있음\n",
      "있음\n",
      "loveaw\n",
      "3\n"
     ]
    },
    {
     "data": {
      "text/plain": [
       "1"
      ]
     },
     "execution_count": 63,
     "metadata": {},
     "output_type": "execute_result"
    }
   ],
   "source": [
    "solution([\"z\", \"d\", \"x\"],[\"def\", \"dww\", \"dzx\", \"loveaw\"])"
   ]
  },
  {
   "cell_type": "code",
   "execution_count": 64,
   "metadata": {},
   "outputs": [
    {
     "name": "stdout",
     "output_type": "stream",
     "text": [
      "moos\n",
      "4\n",
      "있음\n",
      "있음\n",
      "있음\n",
      "dzx\n",
      "4\n",
      "smm\n",
      "4\n",
      "있음\n",
      "sunmmo\n",
      "4\n",
      "있음\n",
      "있음\n",
      "있음\n",
      "som\n",
      "4\n",
      "있음\n",
      "있음\n",
      "있음\n"
     ]
    },
    {
     "data": {
      "text/plain": [
       "2"
      ]
     },
     "execution_count": 64,
     "metadata": {},
     "output_type": "execute_result"
    }
   ],
   "source": [
    "solution([\"s\", \"o\", \"m\", \"d\"],[\"moos\", \"dzx\", \"smm\", \"sunmmo\", \"som\"])"
   ]
  },
  {
   "cell_type": "code",
   "execution_count": null,
   "metadata": {},
   "outputs": [],
   "source": []
  }
 ],
 "metadata": {
  "kernelspec": {
   "display_name": "Python 3",
   "language": "python",
   "name": "python3"
  },
  "language_info": {
   "codemirror_mode": {
    "name": "ipython",
    "version": 3
   },
   "file_extension": ".py",
   "mimetype": "text/x-python",
   "name": "python",
   "nbconvert_exporter": "python",
   "pygments_lexer": "ipython3",
   "version": "3.10.1"
  }
 },
 "nbformat": 4,
 "nbformat_minor": 2
}
