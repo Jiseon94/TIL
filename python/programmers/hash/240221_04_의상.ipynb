{
 "cells": [
  {
   "cell_type": "markdown",
   "metadata": {},
   "source": [
    "dict 에서 values 만 추출할 수 없다. list 로 감싸줘야 추출 가능하다. 왜냐하면,\n",
    "\n",
    "\n",
    "my_dict.values()를 직접 사용할 때에는 딕셔너리의 값들을 가리키는 뷰(view) 객체가 반환됩니다. 이 뷰 객체는 딕셔너리의 값들에 대한 동적인 뷰를 제공합니다. 따라서 이를 리스트로 변환하지 않으면 실제 값을 얻을 수 없습니다.\n",
    "\n",
    "예를 들어, 다음과 같이 my_dict.values()를 사용하여 값에 접근할 수 있습니다:\n",
    "\n",
    "\n",
    "my_dict = {'headgear': 2, 'eyewear': 1}\n",
    "\n",
    "values_view = my_dict.values()\n",
    "\n",
    "값에 직접 접근할 수 없음\n",
    "\n",
    "위의 코드에서 values_view는 딕셔너리의 값들을 가리키는 뷰 객체입니다. 이를 이용하여 딕셔너리의 값을 직접 접근할 수는 없습니다. 값을 직접 얻으려면 리스트로 변환해야 합니다.\n",
    "\n",
    "반면에 list(my_dict.values())와 같이 list() 함수를 사용하면 뷰 객체를 리스트로 변환하고, 이 리스트는 딕셔너리의 실제 값들을 포함하게 됩니다."
   ]
  },
  {
   "cell_type": "code",
   "execution_count": 79,
   "metadata": {},
   "outputs": [],
   "source": [
    "def solution(clothes):\n",
    "    answer = len(clothes)\n",
    "    dict = {}\n",
    "    \n",
    "    # 종류만 알면 된다\n",
    "    temp = [t[1] for t in clothes]\n",
    "    print(temp)\n",
    "\n",
    "    for i in range(len(temp)):\n",
    "        dict[temp[i]] = temp.count(temp[i])\n",
    "    \n",
    "    print(dict)\n",
    "    print(len(dict))\n",
    "    \n",
    "    \n",
    "    if len(dict) == 1 :\n",
    "        return answer\n",
    "\n",
    "    else :\n",
    "        print(\"다른경우\")\n",
    "        total = 1\n",
    "        amount = list(dict.values())\n",
    "        # print(amount)\n",
    "\n",
    "        for v in range(len(amount)):\n",
    "             total += (total*v)\n",
    "        print(total)\n",
    "        answer+=total\n",
    "        return answer\n",
    "             \n",
    "    "
   ]
  },
  {
   "cell_type": "code",
   "execution_count": 111,
   "metadata": {},
   "outputs": [],
   "source": [
    "def solution(clothes):\n",
    "    # answer = len(clothes)\n",
    "    answer = 1\n",
    "    dict = {}\n",
    "    \n",
    "    for i in clothes:\n",
    "        dict[i[-1]] = 0\n",
    "    \n",
    "    print(dict)\n",
    "    \n",
    "    for k in clothes:\n",
    "        dict[k[-1]] += len(k[:-1])\n",
    "        # print(k[:-1])\n",
    "        # print(k[:1])\n",
    "        # print(k[:0])\n",
    "        # print(len(k[:-1]))\n",
    "        print(len(k))\n",
    "        \n",
    "    print(dict)\n",
    "    \n",
    "    for h in dict.values():\n",
    "        print(h+1)\n",
    "        answer = (h+1)*answer\n",
    "        print(answer)\n",
    "    \n",
    "    answer -=1\n",
    "    print(answer)\n",
    "             \n",
    "    "
   ]
  },
  {
   "cell_type": "code",
   "execution_count": 112,
   "metadata": {},
   "outputs": [
    {
     "name": "stdout",
     "output_type": "stream",
     "text": [
      "{'headgear': 0, 'eyewear': 0}\n",
      "2\n",
      "2\n",
      "2\n",
      "{'headgear': 2, 'eyewear': 1}\n",
      "3\n",
      "3\n",
      "2\n",
      "6\n",
      "5\n"
     ]
    }
   ],
   "source": [
    "solution([[\"yellow_hat\", \"headgear\"], [\"blue_sunglasses\", \"eyewear\"], [\"green_turban\", \"headgear\"]])"
   ]
  },
  {
   "cell_type": "code",
   "execution_count": 108,
   "metadata": {},
   "outputs": [
    {
     "name": "stdout",
     "output_type": "stream",
     "text": [
      "{'face': 0}\n",
      "2\n",
      "2\n",
      "2\n",
      "{'face': 3}\n",
      "3\n"
     ]
    }
   ],
   "source": [
    "solution([[\"crow_mask\", \"face\"], [\"blue_sunglasses\", \"face\"], [\"smoky_makeup\", \"face\"]])"
   ]
  },
  {
   "cell_type": "code",
   "execution_count": null,
   "metadata": {},
   "outputs": [],
   "source": []
  }
 ],
 "metadata": {
  "kernelspec": {
   "display_name": "Python 3",
   "language": "python",
   "name": "python3"
  },
  "language_info": {
   "codemirror_mode": {
    "name": "ipython",
    "version": 3
   },
   "file_extension": ".py",
   "mimetype": "text/x-python",
   "name": "python",
   "nbconvert_exporter": "python",
   "pygments_lexer": "ipython3",
   "version": "3.10.1"
  }
 },
 "nbformat": 4,
 "nbformat_minor": 2
}
