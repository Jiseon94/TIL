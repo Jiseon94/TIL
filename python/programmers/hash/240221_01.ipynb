{
 "cells": [
  {
   "cell_type": "markdown",
   "metadata": {},
   "source": [
    "### Hash 의 장점은 검색 시 속도가 빠른 것이다! "
   ]
  },
  {
   "cell_type": "markdown",
   "metadata": {},
   "source": [
    "##  dictionary가 list보다 최소 수십 배 이상 빠르다!!!!"
   ]
  },
  {
   "cell_type": "markdown",
   "metadata": {},
   "source": [
    "https://kid-do-developer.tistory.com/92\n",
    "풀이 참고..."
   ]
  },
  {
   "cell_type": "code",
   "execution_count": 16,
   "metadata": {},
   "outputs": [],
   "source": [
    "def solution(participant, completion):\n",
    "    answer = ''\n",
    "    print(hash(participant[1]))\n",
    "    print(hash(completion[1]))\n",
    "    return answer"
   ]
  },
  {
   "cell_type": "code",
   "execution_count": 39,
   "metadata": {},
   "outputs": [
    {
     "name": "stdout",
     "output_type": "stream",
     "text": [
      "40.9 ns ± 0.685 ns per loop (mean ± std. dev. of 7 runs, 10,000,000 loops each)\n"
     ]
    }
   ],
   "source": [
    "def solution(participant, completion):\n",
    "    for i in range(len(completion)):\n",
    "        # print(completion[i])\n",
    "        # print(hash(completion[i]))\n",
    "        # print(participant.index(completion[i]))\n",
    "        participant.pop(participant.index(completion[i]))\n",
    "    \n",
    "        \n",
    "    return participant[0]"
   ]
  },
  {
   "cell_type": "code",
   "execution_count": 81,
   "metadata": {},
   "outputs": [],
   "source": [
    "# 이름 오름차순 정렬 후 풀어보기!!\n",
    "\n",
    "def solution(participant, completion):\n",
    "    answer = ''\n",
    "    \n",
    "    participant.sort()\n",
    "    completion.sort()\n",
    "    # print(participant)\n",
    "    # print(completion)\n",
    "    \n",
    "    # dict 로 풀어보기\n",
    "    for c in range(0, len(completion)):\n",
    "        if completion[c] == participant[c]:\n",
    "            # print(\"같다\")\n",
    "            continue\n",
    "        elif completion[c] != participant[c]:\n",
    "            # print(\"다르다\")\n",
    "            # print(participant[c])\n",
    "            return participant[c]\n",
    "        \n",
    "    return participant[-1]\n",
    "    "
   ]
  },
  {
   "cell_type": "code",
   "execution_count": 82,
   "metadata": {},
   "outputs": [
    {
     "name": "stdout",
     "output_type": "stream",
     "text": [
      "['ana', 'mislav', 'mislav', 'stanko']\n",
      "['ana', 'mislav', 'stanko']\n",
      "다르다\n",
      "mislav\n"
     ]
    },
    {
     "data": {
      "text/plain": [
       "'mislav'"
      ]
     },
     "execution_count": 82,
     "metadata": {},
     "output_type": "execute_result"
    }
   ],
   "source": [
    "solution([\"mislav\", \"stanko\", \"mislav\", \"ana\"],\t[\"stanko\", \"ana\", \"mislav\"])"
   ]
  },
  {
   "cell_type": "code",
   "execution_count": 83,
   "metadata": {},
   "outputs": [
    {
     "name": "stdout",
     "output_type": "stream",
     "text": [
      "['eden', 'kiki', 'leo']\n",
      "['eden', 'kiki']\n"
     ]
    },
    {
     "data": {
      "text/plain": [
       "'leo'"
      ]
     },
     "execution_count": 83,
     "metadata": {},
     "output_type": "execute_result"
    }
   ],
   "source": [
    "\n",
    "solution([\"leo\", \"kiki\", \"eden\"],\t[\"eden\", \"kiki\"])"
   ]
  },
  {
   "cell_type": "code",
   "execution_count": 84,
   "metadata": {},
   "outputs": [
    {
     "name": "stdout",
     "output_type": "stream",
     "text": [
      "['filipa', 'josipa', 'marina', 'nikola', 'vinko']\n",
      "['filipa', 'josipa', 'marina', 'nikola']\n"
     ]
    },
    {
     "data": {
      "text/plain": [
       "'vinko'"
      ]
     },
     "execution_count": 84,
     "metadata": {},
     "output_type": "execute_result"
    }
   ],
   "source": [
    "\n",
    "solution([\"marina\", \"josipa\", \"nikola\", \"vinko\", \"filipa\"],[\"josipa\", \"filipa\", \"marina\", \"nikola\"]\t)"
   ]
  },
  {
   "cell_type": "code",
   "execution_count": null,
   "metadata": {},
   "outputs": [],
   "source": []
  }
 ],
 "metadata": {
  "kernelspec": {
   "display_name": "Python 3",
   "language": "python",
   "name": "python3"
  },
  "language_info": {
   "codemirror_mode": {
    "name": "ipython",
    "version": 3
   },
   "file_extension": ".py",
   "mimetype": "text/x-python",
   "name": "python",
   "nbconvert_exporter": "python",
   "pygments_lexer": "ipython3",
   "version": "3.10.1"
  }
 },
 "nbformat": 4,
 "nbformat_minor": 2
}
