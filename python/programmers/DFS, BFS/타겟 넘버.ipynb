{
 "cells": [
  {
   "cell_type": "markdown",
   "metadata": {},
   "source": [
    "https://school.programmers.co.kr/learn/courses/30/lessons/43165"
   ]
  },
  {
   "cell_type": "code",
   "execution_count": 1,
   "metadata": {},
   "outputs": [],
   "source": [
    "graph = dict()"
   ]
  },
  {
   "cell_type": "code",
   "execution_count": 2,
   "metadata": {},
   "outputs": [],
   "source": [
    "graph[0] = [4, -4]\n",
    "graph[4] = [1, -1]\n",
    "graph[-4] = [1, -1]\n",
    "graph[1] = [2, -2]\n",
    "graph[-1] = [2, -2]\n",
    "graph[2] = [1, -1]\n",
    "graph[-2] = [1, -1]"
   ]
  },
  {
   "cell_type": "code",
   "execution_count": 3,
   "metadata": {},
   "outputs": [
    {
     "data": {
      "text/plain": [
       "{0: [4, -4],\n",
       " 4: [1, -1],\n",
       " -4: [1, -1],\n",
       " 1: [2, -2],\n",
       " -1: [2, -2],\n",
       " 2: [1, -1],\n",
       " -2: [1, -1]}"
      ]
     },
     "execution_count": 3,
     "metadata": {},
     "output_type": "execute_result"
    }
   ],
   "source": [
    "graph"
   ]
  },
  {
   "cell_type": "code",
   "execution_count": 4,
   "metadata": {},
   "outputs": [
    {
     "ename": "SyntaxError",
     "evalue": "invalid syntax (2370033684.py, line 1)",
     "output_type": "error",
     "traceback": [
      "\u001b[1;36m  Cell \u001b[1;32mIn[4], line 1\u001b[1;36m\u001b[0m\n\u001b[1;33m    def bfs(graph, 0):\u001b[0m\n\u001b[1;37m                   ^\u001b[0m\n\u001b[1;31mSyntaxError\u001b[0m\u001b[1;31m:\u001b[0m invalid syntax\n"
     ]
    }
   ],
   "source": [
    "def bfs(graph, 0):\n",
    "    visited = list()\n",
    "    need_visit = list()\n",
    "    \n",
    "    "
   ]
  },
  {
   "cell_type": "code",
   "execution_count": 6,
   "metadata": {},
   "outputs": [],
   "source": [
    "numbers = [4, 1, 2, 1]\n",
    "target = 4"
   ]
  },
  {
   "cell_type": "code",
   "execution_count": 9,
   "metadata": {},
   "outputs": [],
   "source": [
    "def sol(numbers, target):\n",
    "    idx = curr = 0\n",
    "    \n",
    "    def dfs(nums, target, curr, idx):\n",
    "        if idx == len(nums):\n",
    "            return 1 if curr == target else 0\n",
    "        \n",
    "        return dfs(nums, target, curr + nums[idx], idx +1) \\\n",
    "            + dfs(nums, target, curr - nums[idx], idx + 1)\n",
    "            \n",
    "    answer = dfs(numbers, target, idx, curr)\n",
    "    return answer\n",
    "    "
   ]
  },
  {
   "cell_type": "code",
   "execution_count": null,
   "metadata": {},
   "outputs": [],
   "source": []
  },
  {
   "cell_type": "code",
   "execution_count": 8,
   "metadata": {},
   "outputs": [
    {
     "data": {
      "text/plain": [
       "2"
      ]
     },
     "execution_count": 8,
     "metadata": {},
     "output_type": "execute_result"
    }
   ],
   "source": [
    "sol([4, 1, 2, 1], 4)"
   ]
  },
  {
   "cell_type": "code",
   "execution_count": 11,
   "metadata": {},
   "outputs": [],
   "source": [
    "def sol(numbers, target):\n",
    "    global answer\n",
    "    answer = 0\n",
    "    def dfs(i, total):\n",
    "        global answer\n",
    "        if(i == len(numbers)):\n",
    "            if total == target:\n",
    "                answer +=1\n",
    "            return\n",
    "        dfs(i+1, total + numbers[i])\n",
    "        dfs(i+1, total-numbers[i])\n",
    "        return\n",
    "    dfs(0,0)\n",
    "    return answer\n"
   ]
  },
  {
   "cell_type": "code",
   "execution_count": 12,
   "metadata": {},
   "outputs": [
    {
     "data": {
      "text/plain": [
       "2"
      ]
     },
     "execution_count": 12,
     "metadata": {},
     "output_type": "execute_result"
    }
   ],
   "source": [
    "sol([4, 1, 2, 1], 4)"
   ]
  }
 ],
 "metadata": {
  "kernelspec": {
   "display_name": "Python 3",
   "language": "python",
   "name": "python3"
  },
  "language_info": {
   "codemirror_mode": {
    "name": "ipython",
    "version": 3
   },
   "file_extension": ".py",
   "mimetype": "text/x-python",
   "name": "python",
   "nbconvert_exporter": "python",
   "pygments_lexer": "ipython3",
   "version": "3.10.1"
  }
 },
 "nbformat": 4,
 "nbformat_minor": 2
}
