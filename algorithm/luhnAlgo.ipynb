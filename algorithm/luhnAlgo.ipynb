{
 "cells": [
  {
   "cell_type": "markdown",
   "metadata": {},
   "source": [
    "# Luhn Algorithm(룬 알고리즘)"
   ]
  },
  {
   "cell_type": "markdown",
   "metadata": {},
   "source": [
    "https://velog.io/@hjsun12/룬-알고리즘-어떻게-카드번호-틀린걸-바로-아는거지"
   ]
  },
  {
   "cell_type": "markdown",
   "metadata": {},
   "source": [
    "내가 짜본 python 코드"
   ]
  },
  {
   "cell_type": "markdown",
   "metadata": {},
   "source": [
    "1. 숫자에서 숫자제외한 다른거 다 빼주기. 공백, - 같은거\n",
    "2. 16자리가 맞는지 확인. 아니라면 false\n",
    "3. 숫자를 배열로. \n",
    "4. 마지막 배열 pop 해서 잠시 어디 모아두기\n",
    "5. 15숫자를 reverse 해주기\n",
    "6. 배열의 n%2=1 이 아닌 자리를 *2 해주기\n",
    "7. *2 해준 홀수자리를 9보다 큰지 작은지 검증해주기\n",
    "8. 9보다 크면 (어차피 짝수만 나옴) -9를 해줌. \n",
    "9. 배열의 모든 숫자와 아까 pop 해놓은 수를 더해줌\n",
    "10. 총합 %10을 했을 때, 그 결과가 0이면 -> 유효한 카드번호 / 아닐경우 -> 유효하지 않은 카드번호"
   ]
  },
  {
   "cell_type": "code",
   "execution_count": 1,
   "metadata": {},
   "outputs": [],
   "source": [
    "def checkCardNum(num) :\n",
    "    # print(num)\n",
    "    cardNum = [] #카드번호만 담을 것\n",
    "\n",
    "    # 문자열 num 에서 숫자만 추출\n",
    "    for n in num:\n",
    "       if n.isdigit():\n",
    "        #    print(n) \n",
    "           cardNum.append(int(n))    #카드번호 배열에 추가\n",
    "\n",
    "    \n",
    "    # 16자리가 아닐 경우, false\n",
    "    if len(cardNum) != 16 :\n",
    "        return(False)\n",
    "    \n",
    "    # 마지막 숫자는 잠시 빼두기\n",
    "    lastNum = cardNum.pop()\n",
    "    \n",
    "    # 숫자배열 거꾸로\n",
    "    cardNum.reverse()\n",
    "    \n",
    "    # 배열의 홀수 자리만 2배해주기 -> 따로 계산\n",
    "    singleNum=0\n",
    "    for i in cardNum[::2]:\n",
    "        i*=2\n",
    "        if (i >9):\n",
    "            i-=9\n",
    "        singleNum+=i\n",
    "    \n",
    "    doubleNum =0    # 짝수 자리 합산\n",
    "    for i in cardNum[1::2] :\n",
    "        doubleNum+=i\n",
    "        \n",
    "    # 다 더해주기\n",
    "    total = singleNum + doubleNum +lastNum\n",
    "    \n",
    "    # 10의 배수 확인하기 (삼항연산자)\n",
    "    return True if total%10 ==0 else False\n",
    "    "
   ]
  },
  {
   "cell_type": "code",
   "execution_count": 2,
   "metadata": {},
   "outputs": [
    {
     "data": {
      "text/plain": [
       "False"
      ]
     },
     "execution_count": 2,
     "metadata": {},
     "output_type": "execute_result"
    }
   ],
   "source": [
    "checkCardNum(\"1234 5678 9012 3456\")"
   ]
  },
  {
   "cell_type": "code",
   "execution_count": 3,
   "metadata": {},
   "outputs": [
    {
     "data": {
      "text/plain": [
       "True"
      ]
     },
     "execution_count": 3,
     "metadata": {},
     "output_type": "execute_result"
    }
   ],
   "source": [
    "checkCardNum(\"5 2 5 9  8 2 3 2  2 2 7 2  9 0 6 5\")"
   ]
  },
  {
   "cell_type": "code",
   "execution_count": 4,
   "metadata": {},
   "outputs": [
    {
     "data": {
      "text/plain": [
       "False"
      ]
     },
     "execution_count": 4,
     "metadata": {},
     "output_type": "execute_result"
    }
   ],
   "source": [
    "checkCardNum(\"dijsfj56\")\n"
   ]
  },
  {
   "cell_type": "code",
   "execution_count": 5,
   "metadata": {},
   "outputs": [
    {
     "name": "stdout",
     "output_type": "stream",
     "text": [
      "카드 번호가 유효하지 않습니다.\n"
     ]
    }
   ],
   "source": [
    "# chat GPT가 짠거\n",
    "def check_card_number(card_number):\n",
    "    def digits_of(n):\n",
    "        return [int(d) for d in str(n)]\n",
    "    digits = digits_of(card_number)\n",
    "    odd_digits = digits[-1::-2]\n",
    "    even_digits = digits[-2::-2]\n",
    "    checksum = sum(odd_digits)\n",
    "    for d in even_digits:\n",
    "        checksum += sum(digits_of(d*2))\n",
    "    return checksum % 10 == 0\n",
    "\n",
    "card_number = '1234567890123456'  # Replace with the actual card number\n",
    "if check_card_number(card_number):\n",
    "    print(\"카드 번호가 유효합니다.\")\n",
    "else:\n",
    "    print(\"카드 번호가 유효하지 않습니다.\")"
   ]
  },
  {
   "cell_type": "code",
   "execution_count": null,
   "metadata": {},
   "outputs": [],
   "source": []
  }
 ],
 "metadata": {
  "kernelspec": {
   "display_name": "Python 3",
   "language": "python",
   "name": "python3"
  },
  "language_info": {
   "codemirror_mode": {
    "name": "ipython",
    "version": 3
   },
   "file_extension": ".py",
   "mimetype": "text/x-python",
   "name": "python",
   "nbconvert_exporter": "python",
   "pygments_lexer": "ipython3",
   "version": "3.10.1"
  }
 },
 "nbformat": 4,
 "nbformat_minor": 2
}
